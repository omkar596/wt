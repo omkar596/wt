{
 "cells": [
  {
   "cell_type": "markdown",
   "id": "2ac44c6c-c9ab-44f1-a7fb-44dd3ca73781",
   "metadata": {},
   "source": [
    "Q. 2)Create the following dataset in python & Convert the categorical values into numeric format.Apply \n",
    "the apriori algorithm on the above dataset to generate the frequent itemsets and associationrules. Repeat \n",
    "the process with different min_sup values. [Marks 15]\n",
    "TID Items\n",
    "1 butter, bread, milk \n",
    "2 butter, flour, milk, sugar\n",
    "3 butter, eggs, milk, salt\n",
    "4 eggs\n",
    "5 butter, flour, milk, sal"
   ]
  },
  {
   "cell_type": "code",
   "execution_count": 1,
   "id": "d7675a74-7fb3-4224-b5c0-fb06ec745c7c",
   "metadata": {},
   "outputs": [
    {
     "name": "stdout",
     "output_type": "stream",
     "text": [
      "   support        itemsets\n",
      "0      0.8        (butter)\n",
      "1      0.8          (milk)\n",
      "2      0.8  (butter, milk)\n",
      "  antecedents consequents  antecedent support  consequent support  support  \\\n",
      "0    (butter)      (milk)                 0.8                 0.8      0.8   \n",
      "1      (milk)    (butter)                 0.8                 0.8      0.8   \n",
      "\n",
      "   confidence  lift  leverage  conviction  zhangs_metric  \n",
      "0         1.0  1.25      0.16         inf            1.0  \n",
      "1         1.0  1.25      0.16         inf            1.0  \n"
     ]
    }
   ],
   "source": [
    "import pandas as pd \n",
    "from mlxtend.frequent_patterns import apriori , association_rules\n",
    "from mlxtend.preprocessing import TransactionEncoder\n",
    "\n",
    "transation = [['butter','bread','milk'],\n",
    "              ['butter','flour','milk','sugar'],\n",
    "              ['butter','eggs' ,'milk','salt'],\n",
    "              ['eggs'],\n",
    "              ['butter','flour','milk','salt']]\n",
    "\n",
    "te = TransactionEncoder()\n",
    "te_array = te.fit(transation).transform(transation)\n",
    "df = pd.DataFrame(te_array, columns=te.columns_ )\n",
    "\n",
    "freq_pattern = apriori(df , min_support=0.8 , use_colnames=True)\n",
    "\n",
    "print(freq_pattern)\n",
    "\n",
    "rules = association_rules(freq_pattern , metric='support' , min_threshold=0.05)\n",
    "print(rules)"
   ]
  },
  {
   "cell_type": "code",
   "execution_count": null,
   "id": "48d60cb7-c1cd-48b0-9c88-ea7c3e552e0f",
   "metadata": {},
   "outputs": [],
   "source": []
  }
 ],
 "metadata": {
  "kernelspec": {
   "display_name": "Python 3 (ipykernel)",
   "language": "python",
   "name": "python3"
  },
  "language_info": {
   "codemirror_mode": {
    "name": "ipython",
    "version": 3
   },
   "file_extension": ".py",
   "mimetype": "text/x-python",
   "name": "python",
   "nbconvert_exporter": "python",
   "pygments_lexer": "ipython3",
   "version": "3.12.0"
  }
 },
 "nbformat": 4,
 "nbformat_minor": 5
}
