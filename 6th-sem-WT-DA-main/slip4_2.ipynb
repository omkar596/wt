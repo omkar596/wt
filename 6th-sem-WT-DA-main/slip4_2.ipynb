{
 "cells": [
  {
   "cell_type": "markdown",
   "id": "8de43894-f9df-46d7-b763-a0bc96509223",
   "metadata": {},
   "source": [
    "Q. 2)Build a simple linear regression model for Fish Species Weight Prediction"
   ]
  },
  {
   "cell_type": "code",
   "execution_count": 2,
   "id": "9e61b02e-f9db-4649-9328-81df061c2ec4",
   "metadata": {},
   "outputs": [],
   "source": [
    "import pandas as pd\n",
    "import numpy as np\n",
    "from sklearn.model_selection import train_test_split\n",
    "from sklearn.linear_model import LinearRegression\n",
    "from sklearn.metrics import mean_squared_error, r2_score"
   ]
  },
  {
   "cell_type": "code",
   "execution_count": 3,
   "id": "c13509ec-e3c8-4500-b39c-0263813aca37",
   "metadata": {},
   "outputs": [
    {
     "name": "stdout",
     "output_type": "stream",
     "text": [
      "Mean Squared Error: 3147.242787859331\n",
      "R-squared Score: 0.9180448208984081\n",
      "[228.46092572 589.08331041 602.54942123 299.83122786]\n"
     ]
    }
   ],
   "source": [
    "\n",
    "fish_data = pd.read_csv(\"fish_data.csv\")\n",
    "\n",
    "X = fish_data[['Length1', 'Length2', 'Length3', 'Height']]\n",
    "y = fish_data['Weight']\n",
    "\n",
    "X_train, X_test, y_train, y_test = train_test_split(X, y, test_size=0.2, random_state=42)\n",
    "\n",
    "model = LinearRegression()\n",
    "model.fit(X_train, y_train)\n",
    "\n",
    "y_pred = model.predict(X_test)\n",
    "\n",
    "mse = mean_squared_error(y_test, y_pred)\n",
    "r2 = r2_score(y_test, y_pred)\n",
    "\n",
    "print(\"Mean Squared Error:\", mse)\n",
    "print(\"R-squared Score:\", r2)\n",
    "\n",
    "print(y_pred)"
   ]
  },
  {
   "cell_type": "code",
   "execution_count": null,
   "id": "5925e44b-54bd-45a8-941f-ba3de80f72e5",
   "metadata": {},
   "outputs": [],
   "source": []
  }
 ],
 "metadata": {
  "kernelspec": {
   "display_name": "Python 3 (ipykernel)",
   "language": "python",
   "name": "python3"
  },
  "language_info": {
   "codemirror_mode": {
    "name": "ipython",
    "version": 3
   },
   "file_extension": ".py",
   "mimetype": "text/x-python",
   "name": "python",
   "nbconvert_exporter": "python",
   "pygments_lexer": "ipython3",
   "version": "3.12.0"
  }
 },
 "nbformat": 4,
 "nbformat_minor": 5
}
