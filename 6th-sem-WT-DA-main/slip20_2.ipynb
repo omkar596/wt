{
 "cells": [
  {
   "cell_type": "markdown",
   "id": "99e19c6e-ada7-481b-bd10-4d87d7981b65",
   "metadata": {},
   "source": [
    "Q. 2 )Consider text paragraph. \"\"\"Hello all, Welcome to Python Programming Academy. Python \n",
    "Programming Academy is a nice platform to learn new programming skills. It is difficult to get enrolled \n",
    "in this Academy.\"\"\" Preprocess the text to remove any special characters and digits. Generate the \n",
    "summary using extractive summarization process. "
   ]
  },
  {
   "cell_type": "code",
   "execution_count": 14,
   "id": "8a6af2ab-1be4-42e0-ba89-a328abf6cd8a",
   "metadata": {},
   "outputs": [
    {
     "data": {
      "text/plain": [
       "['Hello',\n",
       " ',',\n",
       " 'Welcome',\n",
       " 'Python',\n",
       " 'Programming',\n",
       " 'Academy',\n",
       " '.',\n",
       " 'Python',\n",
       " 'Programming',\n",
       " 'Academy',\n",
       " 'nice',\n",
       " 'platform',\n",
       " 'learn',\n",
       " 'new',\n",
       " 'programming',\n",
       " 'skills',\n",
       " '.',\n",
       " 'It',\n",
       " 'difficult',\n",
       " 'get',\n",
       " 'enrolled',\n",
       " 'Academy',\n",
       " '.']"
      ]
     },
     "execution_count": 14,
     "metadata": {},
     "output_type": "execute_result"
    }
   ],
   "source": [
    "from nltk.corpus import stopwords\n",
    "from nltk.tokenize import word_tokenize\n",
    "\n",
    "text = \"\"\"Hello all, Welcome to Python Programming Academy. Python \n",
    "Programming Academy is a nice platform to learn new programming skills. It is difficult to get enrolled \n",
    "in this Academy.\"\"\"\n",
    "\n",
    "stopWords = set(stopwords.words(\"english\"))\n",
    "\n",
    "words = word_tokenize(text)\n",
    "filtered_words =[]\n",
    "for word in words:\n",
    "    if word not in stopWords:\n",
    "        filtered_words.append(word)\n",
    "        \n",
    "filtered_words"
   ]
  }
 ],
 "metadata": {
  "kernelspec": {
   "display_name": "Python 3 (ipykernel)",
   "language": "python",
   "name": "python3"
  },
  "language_info": {
   "codemirror_mode": {
    "name": "ipython",
    "version": 3
   },
   "file_extension": ".py",
   "mimetype": "text/x-python",
   "name": "python",
   "nbconvert_exporter": "python",
   "pygments_lexer": "ipython3",
   "version": "3.12.0"
  }
 },
 "nbformat": 4,
 "nbformat_minor": 5
}
