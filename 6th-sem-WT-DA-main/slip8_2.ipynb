{
 "cells": [
  {
   "cell_type": "markdown",
   "id": "c79a2562-8dfa-4782-b09b-ee73e878afdb",
   "metadata": {},
   "source": [
    "Q. 2)Download the groceries dataset. Write a python program to read the dataset and display its \n",
    "information. Preprocess the data (drop null values etc.) Convert the categorical values into numeric \n",
    "format. Apply the apriori algorithm on the above dataset to generate the frequent itemsets and association \n",
    "rules."
   ]
  },
  {
   "cell_type": "code",
   "execution_count": 1,
   "id": "9400dbfa-2ba7-45a6-93b8-30cc5aa12e1d",
   "metadata": {},
   "outputs": [
    {
     "name": "stdout",
     "output_type": "stream",
     "text": [
      "<class 'pandas.core.frame.DataFrame'>\n",
      "RangeIndex: 38765 entries, 0 to 38764\n",
      "Data columns (total 3 columns):\n",
      " #   Column           Non-Null Count  Dtype \n",
      "---  ------           --------------  ----- \n",
      " 0   Member_number    38765 non-null  int64 \n",
      " 1   Date             38765 non-null  object\n",
      " 2   itemDescription  38765 non-null  object\n",
      "dtypes: int64(1), object(2)\n",
      "memory usage: 908.7+ KB\n",
      "None\n",
      "Empty DataFrame\n",
      "Columns: [support, itemsets]\n",
      "Index: []\n"
     ]
    }
   ],
   "source": [
    "import pandas as pd\n",
    "from mlxtend.preprocessing import TransactionEncoder\n",
    "from mlxtend.frequent_patterns import apriori, association_rules\n",
    "\n",
    "\n",
    "data = pd.read_csv('Groceries_dataset.csv')\n",
    "print(data.info())\n",
    "\n",
    "data.dropna()\n",
    "\n",
    "te = TransactionEncoder()\n",
    "te_array = te.fit(data).transform(data)\n",
    "\n",
    "df = pd.DataFrame(te_array, columns=te.columns_)\n",
    "\n",
    "freq_item = apriori(df, min_support=0.01, use_colnames=True)\n",
    "print(freq_item)\n"
   ]
  },
  {
   "cell_type": "code",
   "execution_count": null,
   "id": "86b634fb-8d71-41ed-939a-4fd5fd147a52",
   "metadata": {},
   "outputs": [],
   "source": [
    "rules = association_rules(freq_item, metric=\"confidence\", min_threshold=0.5)\n",
    "print(rules)"
   ]
  }
 ],
 "metadata": {
  "kernelspec": {
   "display_name": "Python 3 (ipykernel)",
   "language": "python",
   "name": "python3"
  },
  "language_info": {
   "codemirror_mode": {
    "name": "ipython",
    "version": 3
   },
   "file_extension": ".py",
   "mimetype": "text/x-python",
   "name": "python",
   "nbconvert_exporter": "python",
   "pygments_lexer": "ipython3",
   "version": "3.12.0"
  }
 },
 "nbformat": 4,
 "nbformat_minor": 5
}
