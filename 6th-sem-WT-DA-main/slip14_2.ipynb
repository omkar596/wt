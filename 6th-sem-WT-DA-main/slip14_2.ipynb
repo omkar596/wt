{
 "cells": [
  {
   "cell_type": "markdown",
   "id": "ca19373f-50d4-4f0e-b181-5b9ee782b956",
   "metadata": {},
   "source": [
    "Q. 2)Create the following dataset in python & Convert the categorical values into numeric format.Apply \n",
    "the apriori algorithm on the above dataset to generate the frequent itemsets and association rules. Repeat \n",
    "the process with different min_sup values. [Marks 15]\n",
    "TID Items\n",
    "1 {Apple , Mango , Banana}\n",
    "2 {Mango , Banana , Cabbage , Carrots}\n",
    "3 {Mango , Banana ,Carrots}\n",
    "4 {Mango , Carrots}"
   ]
  },
  {
   "cell_type": "code",
   "execution_count": 1,
   "id": "dcba01a7-9e6e-43d9-b3a2-9233c6086d9c",
   "metadata": {},
   "outputs": [
    {
     "name": "stdout",
     "output_type": "stream",
     "text": [
      "   support                  itemsets\n",
      "0     0.75                  (Banana)\n",
      "1     0.75                 (Carrots)\n",
      "2     1.00                   (Mango)\n",
      "3     0.50         (Banana, Carrots)\n",
      "4     0.75           (Mango, Banana)\n",
      "5     0.75          (Mango, Carrots)\n",
      "6     0.50  (Mango, Banana, Carrots)\n",
      "          antecedents        consequents  antecedent support  \\\n",
      "0            (Banana)          (Carrots)                0.75   \n",
      "1           (Carrots)           (Banana)                0.75   \n",
      "2             (Mango)           (Banana)                1.00   \n",
      "3            (Banana)            (Mango)                0.75   \n",
      "4             (Mango)          (Carrots)                1.00   \n",
      "5           (Carrots)            (Mango)                0.75   \n",
      "6     (Mango, Banana)          (Carrots)                0.75   \n",
      "7    (Mango, Carrots)           (Banana)                0.75   \n",
      "8   (Banana, Carrots)            (Mango)                0.50   \n",
      "9             (Mango)  (Banana, Carrots)                1.00   \n",
      "10           (Banana)   (Mango, Carrots)                0.75   \n",
      "11          (Carrots)    (Mango, Banana)                0.75   \n",
      "\n",
      "    consequent support  support  confidence      lift  leverage  conviction  \\\n",
      "0                 0.75     0.50    0.666667  0.888889   -0.0625        0.75   \n",
      "1                 0.75     0.50    0.666667  0.888889   -0.0625        0.75   \n",
      "2                 0.75     0.75    0.750000  1.000000    0.0000        1.00   \n",
      "3                 1.00     0.75    1.000000  1.000000    0.0000         inf   \n",
      "4                 0.75     0.75    0.750000  1.000000    0.0000        1.00   \n",
      "5                 1.00     0.75    1.000000  1.000000    0.0000         inf   \n",
      "6                 0.75     0.50    0.666667  0.888889   -0.0625        0.75   \n",
      "7                 0.75     0.50    0.666667  0.888889   -0.0625        0.75   \n",
      "8                 1.00     0.50    1.000000  1.000000    0.0000         inf   \n",
      "9                 0.50     0.50    0.500000  1.000000    0.0000        1.00   \n",
      "10                0.75     0.50    0.666667  0.888889   -0.0625        0.75   \n",
      "11                0.75     0.50    0.666667  0.888889   -0.0625        0.75   \n",
      "\n",
      "    zhangs_metric  \n",
      "0       -0.333333  \n",
      "1       -0.333333  \n",
      "2        0.000000  \n",
      "3        0.000000  \n",
      "4        0.000000  \n",
      "5        0.000000  \n",
      "6       -0.333333  \n",
      "7       -0.333333  \n",
      "8        0.000000  \n",
      "9        0.000000  \n",
      "10      -0.333333  \n",
      "11      -0.333333  \n"
     ]
    }
   ],
   "source": [
    "import pandas as pd\n",
    "from mlxtend.frequent_patterns import apriori , association_rules\n",
    "from mlxtend.preprocessing import TransactionEncoder\n",
    "\n",
    "tansactions = [['Apple','Mango','Banana'],\n",
    "               ['Mango','Banana','Cabbage','Carrots'],\n",
    "               ['Mango','Banana' ,'Carrots'],\n",
    "               ['Mango' ,'Carrots']]\n",
    "\n",
    "te = TransactionEncoder()\n",
    "te_array = te.fit(tansactions).transform(tansactions)\n",
    "\n",
    "df = pd.DataFrame(te_array , columns=te.columns_)\n",
    "\n",
    "freq_items = apriori(df , min_support=0.5 , use_colnames=True)\n",
    "print(freq_items)\n",
    "\n",
    "rules = association_rules(freq_items , metric='support' , min_threshold=0.05)\n",
    "print(rules)"
   ]
  },
  {
   "cell_type": "code",
   "execution_count": null,
   "id": "07847696-6c3a-4d83-bdf0-ca06a4320337",
   "metadata": {},
   "outputs": [],
   "source": []
  }
 ],
 "metadata": {
  "kernelspec": {
   "display_name": "Python 3 (ipykernel)",
   "language": "python",
   "name": "python3"
  },
  "language_info": {
   "codemirror_mode": {
    "name": "ipython",
    "version": 3
   },
   "file_extension": ".py",
   "mimetype": "text/x-python",
   "name": "python",
   "nbconvert_exporter": "python",
   "pygments_lexer": "ipython3",
   "version": "3.12.0"
  }
 },
 "nbformat": 4,
 "nbformat_minor": 5
}
