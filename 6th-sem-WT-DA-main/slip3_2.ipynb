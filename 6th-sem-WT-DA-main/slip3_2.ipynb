{
 "cells": [
  {
   "cell_type": "markdown",
   "id": "f21ac5a9-061b-4539-b844-a90109e2a995",
   "metadata": {},
   "source": [
    "Q. 2)Create ‘User’ Data set having 5 columns namely: User ID, Gender, Age, Estimated Salary and \n",
    "Purchased. Build a logistic regression model that can predict whether on the given parameter a person \n",
    "will buy a car or not. "
   ]
  },
  {
   "cell_type": "code",
   "execution_count": 17,
   "id": "53add015-f4de-41d4-9190-986f4e84f196",
   "metadata": {},
   "outputs": [
    {
     "name": "stdout",
     "output_type": "stream",
     "text": [
      "Accuracy  0.0 %\n",
      "Salary\tActual\tPredicted\n",
      "50000 \tYes \tNo\n",
      "40000 \tYes \tNo\n"
     ]
    }
   ],
   "source": [
    "import pandas as pd\n",
    "import numpy as np\n",
    "from sklearn.model_selection import train_test_split\n",
    "from sklearn.linear_model import LogisticRegression\n",
    "from sklearn import metrics\n",
    "\n",
    "data = {\n",
    "    'User ID': [1, 2, 3, 4, 5],\n",
    "    'Gender': ['Male', 'Female', 'Male', 'Female', 'Male'],\n",
    "    'Age': [25, 30, 35, 40, 45],\n",
    "    'Estimated Salary': [30000, 40000, 50000, 60000, 70000],\n",
    "    'Purchased': [0, 1, 1, 1, 0]  # 0 for not purchased, 1 for purchased\n",
    "}\n",
    "\n",
    "df = pd.DataFrame(data)\n",
    "\n",
    "x = np.array(df[['Estimated Salary']])  \n",
    "y = np.array(df['Purchased']) \n",
    "\n",
    "x_train, x_test,y_train,y_test = train_test_split(x,y,test_size=0.25)\n",
    "\n",
    "model = LogisticRegression()\n",
    "model.fit(x_train,y_train)\n",
    "y_pred = model.predict(x_test)\n",
    "\n",
    "\n",
    "print(\"Accuracy \" , metrics.accuracy_score(y_test,y_pred)*100,\"%\")\n",
    "def getText(num):\n",
    "    if num == 0:\n",
    "        return \"\\tNo\"\n",
    "    return \"\\tYes\"\n",
    "\n",
    "print(\"Salary\\tActual\\tPredicted\")\n",
    "for [salary ,actual, predicted] in zip(x_test,y_test,y_pred):\n",
    "    print(salary[0] ,getText(actual),getText(predicted))"
   ]
  }
 ],
 "metadata": {
  "kernelspec": {
   "display_name": "Python 3 (ipykernel)",
   "language": "python",
   "name": "python3"
  },
  "language_info": {
   "codemirror_mode": {
    "name": "ipython",
    "version": 3
   },
   "file_extension": ".py",
   "mimetype": "text/x-python",
   "name": "python",
   "nbconvert_exporter": "python",
   "pygments_lexer": "ipython3",
   "version": "3.12.0"
  }
 },
 "nbformat": 4,
 "nbformat_minor": 5
}
