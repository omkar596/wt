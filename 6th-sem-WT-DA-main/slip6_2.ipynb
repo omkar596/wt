{
 "cells": [
  {
   "cell_type": "markdown",
   "id": "272e90bb-da81-4d96-86e6-2c98d2034696",
   "metadata": {},
   "source": [
    "Q. 2)Create the following dataset in python & Convert the categorical values into numeric format.Apply \n",
    "the apriori algorithm on the above dataset to generate the frequent itemsets and association rules. Repeat \n",
    "the process with different min_sup values."
   ]
  },
  {
   "cell_type": "code",
   "execution_count": 1,
   "id": "5f480e2f-154d-4c78-947f-1b113c397389",
   "metadata": {},
   "outputs": [
    {
     "name": "stdout",
     "output_type": "stream",
     "text": [
      "   support         itemsets\n",
      "0      0.6           (Beer)\n",
      "1      0.8          (Bread)\n",
      "2      0.8         (Diaper)\n",
      "3      0.8           (Milk)\n",
      "4      0.6   (Beer, Diaper)\n",
      "5      0.6  (Bread, Diaper)\n",
      "6      0.6    (Bread, Milk)\n",
      "7      0.6   (Milk, Diaper)\n",
      "  antecedents consequents  antecedent support  consequent support  support  \\\n",
      "0      (Beer)    (Diaper)                 0.6                 0.8      0.6   \n",
      "1    (Diaper)      (Beer)                 0.8                 0.6      0.6   \n",
      "2     (Bread)    (Diaper)                 0.8                 0.8      0.6   \n",
      "3    (Diaper)     (Bread)                 0.8                 0.8      0.6   \n",
      "4     (Bread)      (Milk)                 0.8                 0.8      0.6   \n",
      "5      (Milk)     (Bread)                 0.8                 0.8      0.6   \n",
      "6      (Milk)    (Diaper)                 0.8                 0.8      0.6   \n",
      "7    (Diaper)      (Milk)                 0.8                 0.8      0.6   \n",
      "\n",
      "   confidence    lift  leverage  conviction  zhangs_metric  \n",
      "0        1.00  1.2500      0.12         inf           0.50  \n",
      "1        0.75  1.2500      0.12         1.6           1.00  \n",
      "2        0.75  0.9375     -0.04         0.8          -0.25  \n",
      "3        0.75  0.9375     -0.04         0.8          -0.25  \n",
      "4        0.75  0.9375     -0.04         0.8          -0.25  \n",
      "5        0.75  0.9375     -0.04         0.8          -0.25  \n",
      "6        0.75  0.9375     -0.04         0.8          -0.25  \n",
      "7        0.75  0.9375     -0.04         0.8          -0.25  \n"
     ]
    }
   ],
   "source": [
    "import pandas as pd \n",
    "from mlxtend.frequent_patterns import apriori,association_rules\n",
    "from mlxtend.preprocessing import TransactionEncoder\n",
    "\n",
    "transactions = [['Bread','Milk'],\n",
    "                ['Bread','Diaper','Beer','Eggs'],\n",
    "                ['Milk','Diaper','Beer','Coke'],\n",
    "                ['Bread', 'Milk','Diaper','Beer'],\n",
    "                ['Bread' ,'Milk','Diaper','Coke']]\n",
    "\n",
    "te = TransactionEncoder()\n",
    "te_array = te.fit(transactions).transform(transactions)\n",
    "\n",
    "df = pd.DataFrame(te_array , columns = te.columns_)\n",
    "\n",
    "freq_items = apriori(df,min_support = 0.5\n",
    "                      ,use_colnames=True)\n",
    "print(freq_items)\n",
    "\n",
    "rules = association_rules(freq_items,metric='support', min_threshold=0.05)\n",
    "rules = rules.sort_values(['support','confidence'] , ascending=[False,False])\n",
    "\n",
    "print(rules)"
   ]
  },
  {
   "cell_type": "code",
   "execution_count": null,
   "id": "87d182bc-de6b-439b-8fad-38f4df14a605",
   "metadata": {},
   "outputs": [],
   "source": []
  }
 ],
 "metadata": {
  "kernelspec": {
   "display_name": "Python 3 (ipykernel)",
   "language": "python",
   "name": "python3"
  },
  "language_info": {
   "codemirror_mode": {
    "name": "ipython",
    "version": 3
   },
   "file_extension": ".py",
   "mimetype": "text/x-python",
   "name": "python",
   "nbconvert_exporter": "python",
   "pygments_lexer": "ipython3",
   "version": "3.12.0"
  }
 },
 "nbformat": 4,
 "nbformat_minor": 5
}
