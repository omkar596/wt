{
 "cells": [
  {
   "cell_type": "markdown",
   "id": "2521c65c-2307-4ca2-8ac1-c69ae87b75d0",
   "metadata": {},
   "source": [
    "Q. 2)Create your own transactions dataset and apply the above process on your dataset. [Marks 15]"
   ]
  },
  {
   "cell_type": "code",
   "execution_count": 1,
   "id": "d6e5ed24-15bb-4a28-9b95-5609dc189680",
   "metadata": {},
   "outputs": [
    {
     "name": "stdout",
     "output_type": "stream",
     "text": [
      "   support         itemsets\n",
      "0     0.75          (Apple)\n",
      "1     0.50          (Mango)\n",
      "2     0.75         (Orange)\n",
      "3     0.50      (PineApple)\n",
      "4     0.50   (Apple, Mango)\n",
      "5     0.50  (Apple, Orange)\n",
      "  antecedents consequents  antecedent support  consequent support  support  \\\n",
      "0     (Apple)     (Mango)                0.75                0.50      0.5   \n",
      "1     (Mango)     (Apple)                0.50                0.75      0.5   \n",
      "2     (Apple)    (Orange)                0.75                0.75      0.5   \n",
      "3    (Orange)     (Apple)                0.75                0.75      0.5   \n",
      "\n",
      "   confidence      lift  leverage  conviction  zhangs_metric  \n",
      "0    0.666667  1.333333    0.1250        1.50       1.000000  \n",
      "1    1.000000  1.333333    0.1250         inf       0.500000  \n",
      "2    0.666667  0.888889   -0.0625        0.75      -0.333333  \n",
      "3    0.666667  0.888889   -0.0625        0.75      -0.333333  \n"
     ]
    }
   ],
   "source": [
    "import pandas as pd \n",
    "from mlxtend.frequent_patterns import apriori,association_rules\n",
    "from mlxtend.preprocessing import TransactionEncoder\n",
    "\n",
    "transactions = [['Apple','Mango','PineApple'],\n",
    "                ['Apple','Orange'],\n",
    "                ['Mango' , 'Apple' , 'Orange'],\n",
    "                ['PineApple','Orange']]\n",
    "\n",
    "te = TransactionEncoder()\n",
    "te_array = te.fit(transactions).transform(transactions)\n",
    "\n",
    "df = pd.DataFrame(te_array , columns=te.columns_)\n",
    "\n",
    "freq_item = apriori(df , min_support=0.5 , use_colnames=True)\n",
    "print(freq_item)\n",
    "\n",
    "rules = association_rules(freq_item , metric='support' , min_threshold=0.05)\n",
    "print(rules)"
   ]
  },
  {
   "cell_type": "code",
   "execution_count": null,
   "id": "70dda793-2dee-4a25-bf13-b166823facc8",
   "metadata": {},
   "outputs": [],
   "source": []
  }
 ],
 "metadata": {
  "kernelspec": {
   "display_name": "Python 3 (ipykernel)",
   "language": "python",
   "name": "python3"
  },
  "language_info": {
   "codemirror_mode": {
    "name": "ipython",
    "version": 3
   },
   "file_extension": ".py",
   "mimetype": "text/x-python",
   "name": "python",
   "nbconvert_exporter": "python",
   "pygments_lexer": "ipython3",
   "version": "3.12.0"
  }
 },
 "nbformat": 4,
 "nbformat_minor": 5
}
