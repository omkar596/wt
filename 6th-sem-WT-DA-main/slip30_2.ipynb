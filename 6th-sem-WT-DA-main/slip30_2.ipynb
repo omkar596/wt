{
 "cells": [
  {
   "cell_type": "markdown",
   "id": "1ce04b22-e099-40a0-917c-49d88a574303",
   "metadata": {},
   "source": [
    "Q. 2 ) Create the dataset . transactions = [['eggs', 'milk','bread'], ['eggs', 'apple'], ['milk', 'bread'], ['apple', \n",
    "'milk'], ['milk', 'apple', 'bread']] .\n",
    "Convert the categorical values into numeric format.Apply the apriori algorithm on the above dataset to \n",
    "generate the frequent itemsets and association rules. "
   ]
  },
  {
   "cell_type": "code",
   "execution_count": 1,
   "id": "2c5b76b3-c221-4e42-834d-1530d4137a05",
   "metadata": {},
   "outputs": [
    {
     "name": "stdout",
     "output_type": "stream",
     "text": [
      "   support       itemsets\n",
      "0      0.6        (apple)\n",
      "1      0.6        (bread)\n",
      "2      0.8         (milk)\n",
      "3      0.6  (bread, milk)\n",
      "  antecedents consequents  antecedent support  consequent support  support  \\\n",
      "0     (bread)      (milk)                 0.6                 0.8      0.6   \n",
      "1      (milk)     (bread)                 0.8                 0.6      0.6   \n",
      "\n",
      "   confidence  lift  leverage  conviction  zhangs_metric  \n",
      "0        1.00  1.25      0.12         inf            0.5  \n",
      "1        0.75  1.25      0.12         1.6            1.0  \n"
     ]
    }
   ],
   "source": [
    "import pandas as pd\n",
    "from mlxtend.frequent_patterns import apriori,association_rules\n",
    "from mlxtend.preprocessing import TransactionEncoder\n",
    "\n",
    "transactions = [['eggs', 'milk','bread'],\n",
    "                ['eggs', 'apple'], \n",
    "                ['milk', 'bread'],\n",
    "                ['apple', 'milk'],\n",
    "                ['milk', 'apple', 'bread']\n",
    "                ]\n",
    "\n",
    "# transform the data\n",
    "te = TransactionEncoder()\n",
    "te_data = te.fit(transactions).transform(transactions)\n",
    "\n",
    "df = pd.DataFrame(te_data , columns=te.columns_)\n",
    "\n",
    "freq_items = apriori(df,min_support=0.5 ,use_colnames=True)\n",
    "print(freq_items)\n",
    "\n",
    "rules = association_rules(freq_items , metric=\"support\" , min_threshold=0.05)\n",
    "rules = rules.sort_values(['support' , 'confidence'] , ascending=[False,False])\n",
    "print(rules)"
   ]
  },
  {
   "cell_type": "code",
   "execution_count": null,
   "id": "e9ad1d3d-bdcd-4831-9aaa-b7265777d1a9",
   "metadata": {},
   "outputs": [],
   "source": []
  }
 ],
 "metadata": {
  "kernelspec": {
   "display_name": "Python 3 (ipykernel)",
   "language": "python",
   "name": "python3"
  },
  "language_info": {
   "codemirror_mode": {
    "name": "ipython",
    "version": 3
   },
   "file_extension": ".py",
   "mimetype": "text/x-python",
   "name": "python",
   "nbconvert_exporter": "python",
   "pygments_lexer": "ipython3",
   "version": "3.12.0"
  }
 },
 "nbformat": 4,
 "nbformat_minor": 5
}
