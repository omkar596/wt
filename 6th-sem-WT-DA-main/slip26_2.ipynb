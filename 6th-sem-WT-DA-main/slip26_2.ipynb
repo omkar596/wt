{
 "cells": [
  {
   "cell_type": "markdown",
   "id": "ec1c1003-79f1-4029-8ba8-cf1eb8bf8143",
   "metadata": {},
   "source": [
    "Q. 2 )Consider text paragraph. \"\"\"Hello all, Welcome to Python Programming Academy. Python \n",
    "Programming Academy is a nice platform to learn new programming skills. It is difficult to get enrolled \n",
    "in this Academy.\"\"\" Preprocess the text to remove any special characters and digits. Generate the \n",
    "summary using extractive summarization process. "
   ]
  },
  {
   "cell_type": "code",
   "execution_count": 1,
   "id": "dd0830b1-22f2-4d3d-8c42-a11f663df29e",
   "metadata": {},
   "outputs": [
    {
     "data": {
      "text/plain": [
       "'Python Programming Academy is a nice platform to learn new programming skills. It is difficult to get enrolled in this Academy. Hello all, Welcome to Python Programming Academy.'"
      ]
     },
     "execution_count": 1,
     "metadata": {},
     "output_type": "execute_result"
    }
   ],
   "source": [
    "import nltk\n",
    "from nltk.corpus import stopwords \n",
    "from nltk.tokenize import word_tokenize ,sent_tokenize\n",
    "import re\n",
    "\n",
    "def get_preprocess_text(text):\n",
    "    processed_text = re.sub(r'[^a-zA-Z\\s]' , '' ,text)\n",
    "    processed_text = re.sub(r'\\d+' ,'',processed_text)\n",
    "    return processed_text\n",
    "\n",
    "text =\"\"\"Hello all, Welcome to Python Programming Academy. Python Programming Academy is a nice platform to learn new programming skills. It is difficult to get enrolled in this Academy.\"\"\"\n",
    "processed_text = get_preprocess_text(text)\n",
    "processed_text\n",
    "\n",
    "stopWords  = set(stopwords.words(\"english\"))\n",
    "\n",
    "words = word_tokenize(processed_text)\n",
    "\n",
    "word_freq = {}\n",
    "for word in words:\n",
    "    if word in stopWords:\n",
    "        continue\n",
    "    if word in word_freq:\n",
    "        word_freq[word] +=1\n",
    "    else:\n",
    "        word_freq[word] = 1\n",
    "\n",
    "maximum_frq = max(word_freq.values())\n",
    "\n",
    "for word in word_freq.keys():\n",
    "    word_freq[word] = (word_freq[word]/maximum_frq)\n",
    "\n",
    "\n",
    "sentences = sent_tokenize(text)\n",
    "sentenceValues = {}\n",
    "for sentence in sentences:\n",
    "    for word,frq in word_freq.items():\n",
    "        if word in sentence.lower():\n",
    "            if sentence in sentenceValues:\n",
    "                sentenceValues[sentence] += frq \n",
    "            else:\n",
    "                sentenceValues[sentence] = frq \n",
    "\n",
    "\n",
    "import heapq \n",
    "summary = ''\n",
    "summary_sentences = heapq.nlargest(10, sentenceValues , key = sentenceValues.get)\n",
    "summary = ' '.join(summary_sentences)\n",
    "summary"
   ]
  },
  {
   "cell_type": "code",
   "execution_count": null,
   "id": "331ae53a-b658-4d08-aaf2-d8c58cd5323e",
   "metadata": {},
   "outputs": [],
   "source": []
  }
 ],
 "metadata": {
  "kernelspec": {
   "display_name": "Python 3 (ipykernel)",
   "language": "python",
   "name": "python3"
  },
  "language_info": {
   "codemirror_mode": {
    "name": "ipython",
    "version": 3
   },
   "file_extension": ".py",
   "mimetype": "text/x-python",
   "name": "python",
   "nbconvert_exporter": "python",
   "pygments_lexer": "ipython3",
   "version": "3.12.0"
  }
 },
 "nbformat": 4,
 "nbformat_minor": 5
}
