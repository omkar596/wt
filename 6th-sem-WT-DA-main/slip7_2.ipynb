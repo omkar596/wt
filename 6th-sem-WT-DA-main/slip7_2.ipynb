{
 "cells": [
  {
   "cell_type": "markdown",
   "id": "e17457f0-c63c-4ddd-9394-d0ee64b9b7fe",
   "metadata": {},
   "source": [
    "Q. 2)Download the Market basket dataset. Write a python program to read the dataset and display its \n",
    "information. Preprocess the data (drop null values etc.) Convert the categorical values into numeric \n",
    "format. Apply the apriori algorithm on the above dataset to generate the frequent itemsets and association \n",
    "rules. [Marks 15]"
   ]
  },
  {
   "cell_type": "code",
   "execution_count": 2,
   "id": "9f0d7614-3652-4dbb-8613-9d5444d82274",
   "metadata": {},
   "outputs": [
    {
     "name": "stdout",
     "output_type": "stream",
     "text": [
      "<class 'pandas.core.frame.DataFrame'>\n",
      "RangeIndex: 7500 entries, 0 to 7499\n",
      "Data columns (total 20 columns):\n",
      " #   Column             Non-Null Count  Dtype  \n",
      "---  ------             --------------  -----  \n",
      " 0   shrimp             7500 non-null   object \n",
      " 1   almonds            5746 non-null   object \n",
      " 2   avocado            4388 non-null   object \n",
      " 3   vegetables mix     3344 non-null   object \n",
      " 4   green grapes       2528 non-null   object \n",
      " 5   whole weat flour   1863 non-null   object \n",
      " 6   yams               1368 non-null   object \n",
      " 7   cottage cheese     980 non-null    object \n",
      " 8   energy drink       653 non-null    object \n",
      " 9   tomato juice       394 non-null    object \n",
      " 10  low fat yogurt     255 non-null    object \n",
      " 11  green tea          153 non-null    object \n",
      " 12  honey              86 non-null     object \n",
      " 13  salad              46 non-null     object \n",
      " 14  mineral water      24 non-null     object \n",
      " 15  salmon             7 non-null      object \n",
      " 16  antioxydant juice  3 non-null      object \n",
      " 17  frozen smoothie    3 non-null      object \n",
      " 18  spinach            2 non-null      object \n",
      " 19  olive oil          0 non-null      float64\n",
      "dtypes: float64(1), object(19)\n",
      "memory usage: 1.1+ MB\n",
      "None\n",
      "              a      b      c      d      e      f      g      h      i  ...  \\\n",
      "0  False  False  False  False  False  False  False  False   True   True  ...   \n",
      "1  False   True  False  False   True  False  False  False  False  False  ...   \n",
      "2  False   True  False   True   True  False  False  False  False  False  ...   \n",
      "3   True   True   True  False  False   True  False   True  False   True  ...   \n",
      "4   True   True  False  False  False   True  False   True  False  False  ...   \n",
      "\n",
      "       p      r      s      t      u      v      w      x      y      z  \n",
      "0   True   True   True  False  False  False  False  False  False  False  \n",
      "1  False  False   True  False  False  False  False  False  False  False  \n",
      "2  False  False  False  False  False   True  False  False  False  False  \n",
      "3  False  False   True   True  False   True  False   True  False  False  \n",
      "4   True   True   True  False  False  False  False  False  False  False  \n",
      "\n",
      "[5 rows x 26 columns]\n"
     ]
    }
   ],
   "source": [
    "import pandas as pd\n",
    "from mlxtend.frequent_patterns import apriori,association_rules\n",
    "from mlxtend.preprocessing import TransactionEncoder\n",
    "\n",
    "data = pd.read_csv('store_data.csv')\n",
    "print(data.info())\n",
    "\n",
    "data.dropna()\n",
    "\n",
    "te = TransactionEncoder()\n",
    "te_array = te.fit(data).transform(data)\n",
    "df = pd.DataFrame(te_array, columns=te.columns_)\n",
    "\n",
    "print(df.head())"
   ]
  },
  {
   "cell_type": "code",
   "execution_count": null,
   "id": "c41363df-c1a9-41d7-bb3b-04ec6f8abcf3",
   "metadata": {},
   "outputs": [],
   "source": [
    "freq_item = apriori(df, min_support=0.05, use_colnames=True)\n",
    "print(freq_item)\n",
    "\n",
    "rules = association_rules(freq_item, metric=\"confidence\", min_threshold=0.5)\n",
    "print(rules)"
   ]
  }
 ],
 "metadata": {
  "kernelspec": {
   "display_name": "Python 3 (ipykernel)",
   "language": "python",
   "name": "python3"
  },
  "language_info": {
   "codemirror_mode": {
    "name": "ipython",
    "version": 3
   },
   "file_extension": ".py",
   "mimetype": "text/x-python",
   "name": "python",
   "nbconvert_exporter": "python",
   "pygments_lexer": "ipython3",
   "version": "3.12.0"
  }
 },
 "nbformat": 4,
 "nbformat_minor": 5
}
